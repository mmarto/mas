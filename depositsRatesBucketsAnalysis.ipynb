{
 "cells": [
  {
   "cell_type": "markdown",
   "metadata": {},
   "source": [
    "## Deposits Rates Buckets Test"
   ]
  },
  {
   "cell_type": "markdown",
   "metadata": {},
   "source": [
    "### 1. Import the libraries needed"
   ]
  },
  {
   "cell_type": "code",
   "execution_count": 1,
   "metadata": {
    "collapsed": false
   },
   "outputs": [
    {
     "data": {
      "text/plain": [
       "'0.18.1'"
      ]
     },
     "execution_count": 1,
     "metadata": {},
     "output_type": "execute_result"
    }
   ],
   "source": [
    "import pandas as pd\n",
    "from pandas.tseries.offsets import MonthEnd\n",
    "import numpy as np\n",
    "from bs4 import BeautifulSoup\n",
    "import requests\n",
    "pd.__version__"
   ]
  },
  {
   "cell_type": "markdown",
   "metadata": {},
   "source": [
    "### 2. Define the input files and urls"
   ]
  },
  {
   "cell_type": "code",
   "execution_count": 2,
   "metadata": {
    "collapsed": false
   },
   "outputs": [
    {
     "name": "stdout",
     "output_type": "stream",
     "text": [
      "/home/martin/PycharmProjects/mas\r\n"
     ]
    }
   ],
   "source": [
    "!pwd"
   ]
  },
  {
   "cell_type": "code",
   "execution_count": 3,
   "metadata": {
    "collapsed": true
   },
   "outputs": [],
   "source": [
    "depositAmountsFile = 'files/Deposit_amounts.xlsx'\n",
    "depositsRatesBuckets = 'files/Deposits_rates_and_buckets.xlsx'\n",
    "url = '''http://www.cbr.ru/eng/statistics/print.aspx?file=credit_statistics/ex_rate_ind_16_e.htm&pid=svs&sid=analit'''"
   ]
  },
  {
   "cell_type": "markdown",
   "metadata": {},
   "source": [
    "### 3. Read file Deposit_amounts.xlsx and mangle and align the data for further calculations, skip first 7 rows, don't put headers"
   ]
  },
  {
   "cell_type": "code",
   "execution_count": 4,
   "metadata": {
    "collapsed": true
   },
   "outputs": [],
   "source": [
    "dfDepositAmounts = pd.read_excel(depositAmountsFile, sheetname=0, skiprows=7, header=None)"
   ]
  },
  {
   "cell_type": "markdown",
   "metadata": {},
   "source": [
    "#### Explore the data"
   ]
  },
  {
   "cell_type": "code",
   "execution_count": 5,
   "metadata": {
    "collapsed": false
   },
   "outputs": [
    {
     "name": "stdout",
     "output_type": "stream",
     "text": [
      "<class 'pandas.core.frame.DataFrame'>\n",
      "RangeIndex: 55 entries, 0 to 54\n",
      "Data columns (total 11 columns):\n",
      "0     55 non-null datetime64[ns]\n",
      "1     55 non-null int64\n",
      "2     55 non-null int64\n",
      "3     55 non-null int64\n",
      "4     55 non-null int64\n",
      "5     55 non-null int64\n",
      "6     55 non-null int64\n",
      "7     55 non-null int64\n",
      "8     55 non-null int64\n",
      "9     55 non-null int64\n",
      "10    55 non-null int64\n",
      "dtypes: datetime64[ns](1), int64(10)\n",
      "memory usage: 4.8 KB\n"
     ]
    }
   ],
   "source": [
    "dfDepositAmounts.info()"
   ]
  },
  {
   "cell_type": "code",
   "execution_count": 6,
   "metadata": {
    "collapsed": false
   },
   "outputs": [
    {
     "data": {
      "text/html": [
       "<div>\n",
       "<table border=\"1\" class=\"dataframe\">\n",
       "  <thead>\n",
       "    <tr style=\"text-align: right;\">\n",
       "      <th></th>\n",
       "      <th>0</th>\n",
       "      <th>1</th>\n",
       "      <th>2</th>\n",
       "      <th>3</th>\n",
       "      <th>4</th>\n",
       "      <th>5</th>\n",
       "      <th>6</th>\n",
       "      <th>7</th>\n",
       "      <th>8</th>\n",
       "      <th>9</th>\n",
       "      <th>10</th>\n",
       "    </tr>\n",
       "  </thead>\n",
       "  <tbody>\n",
       "    <tr>\n",
       "      <th>0</th>\n",
       "      <td>2012-02-01</td>\n",
       "      <td>19729592</td>\n",
       "      <td>6135566</td>\n",
       "      <td>419487</td>\n",
       "      <td>28841</td>\n",
       "      <td>4164728</td>\n",
       "      <td>758418</td>\n",
       "      <td>4595876</td>\n",
       "      <td>1723058</td>\n",
       "      <td>9528875</td>\n",
       "      <td>2101759</td>\n",
       "    </tr>\n",
       "    <tr>\n",
       "      <th>1</th>\n",
       "      <td>2012-03-01</td>\n",
       "      <td>19680942</td>\n",
       "      <td>6029030</td>\n",
       "      <td>435477</td>\n",
       "      <td>34525</td>\n",
       "      <td>4039083</td>\n",
       "      <td>760463</td>\n",
       "      <td>4501438</td>\n",
       "      <td>1619101</td>\n",
       "      <td>9700707</td>\n",
       "      <td>2088085</td>\n",
       "    </tr>\n",
       "    <tr>\n",
       "      <th>2</th>\n",
       "      <td>2012-04-01</td>\n",
       "      <td>19890777</td>\n",
       "      <td>6092441</td>\n",
       "      <td>479256</td>\n",
       "      <td>32655</td>\n",
       "      <td>4024004</td>\n",
       "      <td>734904</td>\n",
       "      <td>4577416</td>\n",
       "      <td>1648916</td>\n",
       "      <td>9807289</td>\n",
       "      <td>2164900</td>\n",
       "    </tr>\n",
       "    <tr>\n",
       "      <th>3</th>\n",
       "      <td>2012-05-01</td>\n",
       "      <td>20007143</td>\n",
       "      <td>6321617</td>\n",
       "      <td>470609</td>\n",
       "      <td>29689</td>\n",
       "      <td>3757078</td>\n",
       "      <td>686025</td>\n",
       "      <td>4684425</td>\n",
       "      <td>1779641</td>\n",
       "      <td>10075413</td>\n",
       "      <td>2168096</td>\n",
       "    </tr>\n",
       "    <tr>\n",
       "      <th>4</th>\n",
       "      <td>2012-06-01</td>\n",
       "      <td>20404098</td>\n",
       "      <td>6849573</td>\n",
       "      <td>463338</td>\n",
       "      <td>28928</td>\n",
       "      <td>3874913</td>\n",
       "      <td>761163</td>\n",
       "      <td>4776341</td>\n",
       "      <td>1911771</td>\n",
       "      <td>10161131</td>\n",
       "      <td>2342464</td>\n",
       "    </tr>\n",
       "  </tbody>\n",
       "</table>\n",
       "</div>"
      ],
      "text/plain": [
       "          0         1        2       3      4        5       6        7   \\\n",
       "0 2012-02-01  19729592  6135566  419487  28841  4164728  758418  4595876   \n",
       "1 2012-03-01  19680942  6029030  435477  34525  4039083  760463  4501438   \n",
       "2 2012-04-01  19890777  6092441  479256  32655  4024004  734904  4577416   \n",
       "3 2012-05-01  20007143  6321617  470609  29689  3757078  686025  4684425   \n",
       "4 2012-06-01  20404098  6849573  463338  28928  3874913  761163  4776341   \n",
       "\n",
       "        8         9        10  \n",
       "0  1723058   9528875  2101759  \n",
       "1  1619101   9700707  2088085  \n",
       "2  1648916   9807289  2164900  \n",
       "3  1779641  10075413  2168096  \n",
       "4  1911771  10161131  2342464  "
      ]
     },
     "execution_count": 6,
     "metadata": {},
     "output_type": "execute_result"
    }
   ],
   "source": [
    "dfDepositAmounts.head()"
   ]
  },
  {
   "cell_type": "markdown",
   "metadata": {},
   "source": [
    "#### Take only the first and the last 4 columns from the dataset"
   ]
  },
  {
   "cell_type": "code",
   "execution_count": 7,
   "metadata": {
    "collapsed": false
   },
   "outputs": [],
   "source": [
    "dfDepositAmounts = dfDepositAmounts[[0, 7, 8, 9, 10]]"
   ]
  },
  {
   "cell_type": "code",
   "execution_count": 8,
   "metadata": {
    "collapsed": false
   },
   "outputs": [
    {
     "data": {
      "text/plain": [
       "Int64Index([0, 7, 8, 9, 10], dtype='int64')"
      ]
     },
     "execution_count": 8,
     "metadata": {},
     "output_type": "execute_result"
    }
   ],
   "source": [
    "dfDepositAmounts.columns"
   ]
  },
  {
   "cell_type": "markdown",
   "metadata": {},
   "source": [
    "#### Rename the columns in the dataset"
   ]
  },
  {
   "cell_type": "code",
   "execution_count": 9,
   "metadata": {
    "collapsed": true
   },
   "outputs": [],
   "source": [
    "dfDepositAmounts.columns = ['dt', 'entities_rub', 'entities_usd', 'individual_rub', 'individual_usd']"
   ]
  },
  {
   "cell_type": "code",
   "execution_count": 10,
   "metadata": {
    "collapsed": false
   },
   "outputs": [
    {
     "data": {
      "text/html": [
       "<div>\n",
       "<table border=\"1\" class=\"dataframe\">\n",
       "  <thead>\n",
       "    <tr style=\"text-align: right;\">\n",
       "      <th></th>\n",
       "      <th>dt</th>\n",
       "      <th>entities_rub</th>\n",
       "      <th>entities_usd</th>\n",
       "      <th>individual_rub</th>\n",
       "      <th>individual_usd</th>\n",
       "    </tr>\n",
       "  </thead>\n",
       "  <tbody>\n",
       "    <tr>\n",
       "      <th>0</th>\n",
       "      <td>2012-02-01</td>\n",
       "      <td>4595876</td>\n",
       "      <td>1723058</td>\n",
       "      <td>9528875</td>\n",
       "      <td>2101759</td>\n",
       "    </tr>\n",
       "    <tr>\n",
       "      <th>1</th>\n",
       "      <td>2012-03-01</td>\n",
       "      <td>4501438</td>\n",
       "      <td>1619101</td>\n",
       "      <td>9700707</td>\n",
       "      <td>2088085</td>\n",
       "    </tr>\n",
       "    <tr>\n",
       "      <th>2</th>\n",
       "      <td>2012-04-01</td>\n",
       "      <td>4577416</td>\n",
       "      <td>1648916</td>\n",
       "      <td>9807289</td>\n",
       "      <td>2164900</td>\n",
       "    </tr>\n",
       "    <tr>\n",
       "      <th>3</th>\n",
       "      <td>2012-05-01</td>\n",
       "      <td>4684425</td>\n",
       "      <td>1779641</td>\n",
       "      <td>10075413</td>\n",
       "      <td>2168096</td>\n",
       "    </tr>\n",
       "    <tr>\n",
       "      <th>4</th>\n",
       "      <td>2012-06-01</td>\n",
       "      <td>4776341</td>\n",
       "      <td>1911771</td>\n",
       "      <td>10161131</td>\n",
       "      <td>2342464</td>\n",
       "    </tr>\n",
       "  </tbody>\n",
       "</table>\n",
       "</div>"
      ],
      "text/plain": [
       "          dt  entities_rub  entities_usd  individual_rub  individual_usd\n",
       "0 2012-02-01       4595876       1723058         9528875         2101759\n",
       "1 2012-03-01       4501438       1619101         9700707         2088085\n",
       "2 2012-04-01       4577416       1648916         9807289         2164900\n",
       "3 2012-05-01       4684425       1779641        10075413         2168096\n",
       "4 2012-06-01       4776341       1911771        10161131         2342464"
      ]
     },
     "execution_count": 10,
     "metadata": {},
     "output_type": "execute_result"
    }
   ],
   "source": [
    "dfDepositAmounts.head()"
   ]
  },
  {
   "cell_type": "markdown",
   "metadata": {},
   "source": [
    "#### Filter out rows which have date older then 1 Jan 2016"
   ]
  },
  {
   "cell_type": "code",
   "execution_count": 11,
   "metadata": {
    "collapsed": false
   },
   "outputs": [
    {
     "data": {
      "text/html": [
       "<div>\n",
       "<table border=\"1\" class=\"dataframe\">\n",
       "  <thead>\n",
       "    <tr style=\"text-align: right;\">\n",
       "      <th></th>\n",
       "      <th>dt</th>\n",
       "      <th>entities_rub</th>\n",
       "      <th>entities_usd</th>\n",
       "      <th>individual_rub</th>\n",
       "      <th>individual_usd</th>\n",
       "    </tr>\n",
       "  </thead>\n",
       "  <tbody>\n",
       "    <tr>\n",
       "      <th>47</th>\n",
       "      <td>2016-01-01</td>\n",
       "      <td>6857658</td>\n",
       "      <td>6293696</td>\n",
       "      <td>16347070</td>\n",
       "      <td>6912395</td>\n",
       "    </tr>\n",
       "    <tr>\n",
       "      <th>48</th>\n",
       "      <td>2016-02-01</td>\n",
       "      <td>6724597</td>\n",
       "      <td>6099610</td>\n",
       "      <td>15879147</td>\n",
       "      <td>6977848</td>\n",
       "    </tr>\n",
       "    <tr>\n",
       "      <th>49</th>\n",
       "      <td>2016-03-01</td>\n",
       "      <td>6704958</td>\n",
       "      <td>5782209</td>\n",
       "      <td>16188382</td>\n",
       "      <td>6899635</td>\n",
       "    </tr>\n",
       "    <tr>\n",
       "      <th>50</th>\n",
       "      <td>2016-04-01</td>\n",
       "      <td>6482520</td>\n",
       "      <td>5157832</td>\n",
       "      <td>16338734</td>\n",
       "      <td>6287100</td>\n",
       "    </tr>\n",
       "    <tr>\n",
       "      <th>51</th>\n",
       "      <td>2016-05-01</td>\n",
       "      <td>7233984</td>\n",
       "      <td>4993260</td>\n",
       "      <td>16719956</td>\n",
       "      <td>6061482</td>\n",
       "    </tr>\n",
       "    <tr>\n",
       "      <th>52</th>\n",
       "      <td>2016-06-01</td>\n",
       "      <td>7294002</td>\n",
       "      <td>5037593</td>\n",
       "      <td>16846688</td>\n",
       "      <td>6177303</td>\n",
       "    </tr>\n",
       "    <tr>\n",
       "      <th>53</th>\n",
       "      <td>2016-07-01</td>\n",
       "      <td>7247267</td>\n",
       "      <td>4813989</td>\n",
       "      <td>17109434</td>\n",
       "      <td>6057397</td>\n",
       "    </tr>\n",
       "    <tr>\n",
       "      <th>54</th>\n",
       "      <td>2016-08-01</td>\n",
       "      <td>7639472</td>\n",
       "      <td>4695342</td>\n",
       "      <td>17209103</td>\n",
       "      <td>6355935</td>\n",
       "    </tr>\n",
       "  </tbody>\n",
       "</table>\n",
       "</div>"
      ],
      "text/plain": [
       "           dt  entities_rub  entities_usd  individual_rub  individual_usd\n",
       "47 2016-01-01       6857658       6293696        16347070         6912395\n",
       "48 2016-02-01       6724597       6099610        15879147         6977848\n",
       "49 2016-03-01       6704958       5782209        16188382         6899635\n",
       "50 2016-04-01       6482520       5157832        16338734         6287100\n",
       "51 2016-05-01       7233984       4993260        16719956         6061482\n",
       "52 2016-06-01       7294002       5037593        16846688         6177303\n",
       "53 2016-07-01       7247267       4813989        17109434         6057397\n",
       "54 2016-08-01       7639472       4695342        17209103         6355935"
      ]
     },
     "execution_count": 11,
     "metadata": {},
     "output_type": "execute_result"
    }
   ],
   "source": [
    "dfDepositAmounts[dfDepositAmounts.dt >= '2016-01-01']"
   ]
  },
  {
   "cell_type": "code",
   "execution_count": 12,
   "metadata": {
    "collapsed": true
   },
   "outputs": [],
   "source": [
    "dfDepositAmounts = dfDepositAmounts[dfDepositAmounts.dt >= '2016-01-01']"
   ]
  },
  {
   "cell_type": "markdown",
   "metadata": {},
   "source": [
    "#### Create a column with full month name from the dt column"
   ]
  },
  {
   "cell_type": "code",
   "execution_count": 13,
   "metadata": {
    "collapsed": false
   },
   "outputs": [],
   "source": [
    "dfDepositAmounts['month'] = dfDepositAmounts.dt.apply('{:%B}'.format)"
   ]
  },
  {
   "cell_type": "code",
   "execution_count": 14,
   "metadata": {
    "collapsed": false
   },
   "outputs": [
    {
     "data": {
      "text/html": [
       "<div>\n",
       "<table border=\"1\" class=\"dataframe\">\n",
       "  <thead>\n",
       "    <tr style=\"text-align: right;\">\n",
       "      <th></th>\n",
       "      <th>dt</th>\n",
       "      <th>entities_rub</th>\n",
       "      <th>entities_usd</th>\n",
       "      <th>individual_rub</th>\n",
       "      <th>individual_usd</th>\n",
       "      <th>month</th>\n",
       "    </tr>\n",
       "  </thead>\n",
       "  <tbody>\n",
       "    <tr>\n",
       "      <th>53</th>\n",
       "      <td>2016-07-01</td>\n",
       "      <td>7247267</td>\n",
       "      <td>4813989</td>\n",
       "      <td>17109434</td>\n",
       "      <td>6057397</td>\n",
       "      <td>July</td>\n",
       "    </tr>\n",
       "    <tr>\n",
       "      <th>49</th>\n",
       "      <td>2016-03-01</td>\n",
       "      <td>6704958</td>\n",
       "      <td>5782209</td>\n",
       "      <td>16188382</td>\n",
       "      <td>6899635</td>\n",
       "      <td>March</td>\n",
       "    </tr>\n",
       "  </tbody>\n",
       "</table>\n",
       "</div>"
      ],
      "text/plain": [
       "           dt  entities_rub  entities_usd  individual_rub  individual_usd  \\\n",
       "53 2016-07-01       7247267       4813989        17109434         6057397   \n",
       "49 2016-03-01       6704958       5782209        16188382         6899635   \n",
       "\n",
       "    month  \n",
       "53   July  \n",
       "49  March  "
      ]
     },
     "execution_count": 14,
     "metadata": {},
     "output_type": "execute_result"
    }
   ],
   "source": [
    "dfDepositAmounts.sample(2)"
   ]
  },
  {
   "cell_type": "markdown",
   "metadata": {},
   "source": [
    "#### Set column month to be an index for the dataset <br>(To be used to join with datasets from the second file and from the url)"
   ]
  },
  {
   "cell_type": "code",
   "execution_count": 15,
   "metadata": {
    "collapsed": false
   },
   "outputs": [],
   "source": [
    "dfDepositAmounts = dfDepositAmounts.set_index('month')"
   ]
  },
  {
   "cell_type": "code",
   "execution_count": 16,
   "metadata": {
    "collapsed": true
   },
   "outputs": [],
   "source": [
    "# del(dfDepositAmounts['dt'])"
   ]
  },
  {
   "cell_type": "code",
   "execution_count": 17,
   "metadata": {
    "collapsed": false
   },
   "outputs": [
    {
     "data": {
      "text/html": [
       "<div>\n",
       "<table border=\"1\" class=\"dataframe\">\n",
       "  <thead>\n",
       "    <tr style=\"text-align: right;\">\n",
       "      <th></th>\n",
       "      <th>dt</th>\n",
       "      <th>entities_rub</th>\n",
       "      <th>entities_usd</th>\n",
       "      <th>individual_rub</th>\n",
       "      <th>individual_usd</th>\n",
       "    </tr>\n",
       "    <tr>\n",
       "      <th>month</th>\n",
       "      <th></th>\n",
       "      <th></th>\n",
       "      <th></th>\n",
       "      <th></th>\n",
       "      <th></th>\n",
       "    </tr>\n",
       "  </thead>\n",
       "  <tbody>\n",
       "    <tr>\n",
       "      <th>July</th>\n",
       "      <td>2016-07-01</td>\n",
       "      <td>7247267</td>\n",
       "      <td>4813989</td>\n",
       "      <td>17109434</td>\n",
       "      <td>6057397</td>\n",
       "    </tr>\n",
       "    <tr>\n",
       "      <th>January</th>\n",
       "      <td>2016-01-01</td>\n",
       "      <td>6857658</td>\n",
       "      <td>6293696</td>\n",
       "      <td>16347070</td>\n",
       "      <td>6912395</td>\n",
       "    </tr>\n",
       "  </tbody>\n",
       "</table>\n",
       "</div>"
      ],
      "text/plain": [
       "                dt  entities_rub  entities_usd  individual_rub  individual_usd\n",
       "month                                                                         \n",
       "July    2016-07-01       7247267       4813989        17109434         6057397\n",
       "January 2016-01-01       6857658       6293696        16347070         6912395"
      ]
     },
     "execution_count": 17,
     "metadata": {},
     "output_type": "execute_result"
    }
   ],
   "source": [
    "dfDepositAmounts.sample(2)"
   ]
  },
  {
   "cell_type": "markdown",
   "metadata": {},
   "source": [
    "### 4. Read file Deposits_rates_and_buckets.xlsx and mangle and align the data for further calculations\n",
    "#### Since the file contains multiple spreadsheets read the first 2 sheets and populate them into a dictionary of dataframes. Skip the first 6 rows and don't use headers"
   ]
  },
  {
   "cell_type": "code",
   "execution_count": 18,
   "metadata": {
    "collapsed": true
   },
   "outputs": [],
   "source": [
    "dfdepositsRatesBuckets = pd.read_excel(depositsRatesBuckets, sheetname=[0, 1], skiprows=6, header=None)"
   ]
  },
  {
   "cell_type": "markdown",
   "metadata": {},
   "source": [
    "#### Create a MultIindex columns because the dataframe in each sheet has repeating column names"
   ]
  },
  {
   "cell_type": "code",
   "execution_count": 19,
   "metadata": {
    "collapsed": false
   },
   "outputs": [],
   "source": [
    "idx = pd.MultiIndex.from_tuples([('individual', c) for c in dfdepositsRatesBuckets[0].columns[:12]] + \n",
    "                                 [('entity', c) for c in dfdepositsRatesBuckets[0].columns[12:]])"
   ]
  },
  {
   "cell_type": "markdown",
   "metadata": {},
   "source": [
    "#### Define the column names for level 1 of the MultiIndex"
   ]
  },
  {
   "cell_type": "code",
   "execution_count": 20,
   "metadata": {
    "collapsed": false
   },
   "outputs": [],
   "source": [
    "cols = ['month', \n",
    "'demand deposits', \n",
    "'up to 30 days (including demand deposits)',\n",
    "'up to 30 days (except demand deposits)',\n",
    "'31 to 90 days',\n",
    "'91 to 180 days',\n",
    "'181 days to 1 year',\n",
    "'up to 1 year (including demand deposits)',\n",
    "'up to 1 year (except demand deposits',\n",
    "'1 to 3 years',\n",
    "'over 3 years',\n",
    "'over 1 year',\n",
    "'up to 30 days (including demand deposits)',\n",
    "'31 to 90 days',\n",
    "'91 to 180 days',\n",
    "'181 days to 1 year',\n",
    "'up to 1 year (including demand deposits)',\n",
    "'1 to 3 years',\n",
    "'over 3 years',\n",
    "'over 1 year']"
   ]
  },
  {
   "cell_type": "markdown",
   "metadata": {},
   "source": [
    "#### Loop over the dictionary of dataframes and extract the data needed into 2 lists for further calculations\n",
    "#### Data mangling in the loop:\n",
    "1. Remove new lines and white space from the month (first) column\n",
    "2. Filter out lines which are not months defined in the first dataset index based on Deposit_amounts.xlsx file\n",
    "3. Replace - with NaNs\n",
    "4. Assign the MultiIndex columns to the dataset\n",
    "5. Extract the first table from the dataset (weighted average annual interest rates on deposits in the reporting month and are calculated based on annual interest rates, which are stated in deposit agreement and volume of borrowed funds in the reporting month.)\n",
    "6. Extract the second table from the dataset (Share of deposits on each maturity, borrowed in the reporting month, in total volume of deposits in the reporting month, borrowed from individuals and nonfinancial organizations.)\n",
    "7. Multiply the numbers in the second table with their respective deposit amount (individual/entity) for each month"
   ]
  },
  {
   "cell_type": "code",
   "execution_count": 21,
   "metadata": {
    "collapsed": false
   },
   "outputs": [],
   "source": [
    "dfDepositsAnnIntRate = list()\n",
    "dfDepositsStructureIntRate = list()\n",
    "for k in dfdepositsRatesBuckets:\n",
    "    dfdepositsRatesBuckets[k][0] = dfdepositsRatesBuckets[k][0].str.strip() # 1\n",
    "    dfdepositsRatesBuckets[k] = dfdepositsRatesBuckets[k][dfdepositsRatesBuckets[k][0].isin(dfDepositAmounts.index)] # 2\n",
    "    dfdepositsRatesBuckets[k] = dfdepositsRatesBuckets[k].replace('-', np.nan) # 3\n",
    "    dfdepositsRatesBuckets[k].columns = idx # 4\n",
    "    dfdepositsRatesBuckets[k].columns = dfdepositsRatesBuckets[k].columns.set_levels(cols, level=1) # 4\n",
    "    tmpDf1 = dfdepositsRatesBuckets[k].ix[:6] # 5\n",
    "    tmpDf1.set_index(tmpDf1.columns[0], inplace=True)\n",
    "    tmpDf1.index.name = 'month'\n",
    "    dfDepositsAnnIntRate.append(tmpDf1/100)\n",
    "    tmpDf2 = dfdepositsRatesBuckets[k].ix[7:] # 6\n",
    "    tmpDf2.set_index(tmpDf2.columns[0], inplace=True)\n",
    "    tmpDf2 = tmpDf2/100\n",
    "    if k == 0:\n",
    "        curr = 'rub'\n",
    "    else:\n",
    "        curr = 'usd'\n",
    "    # 7:\n",
    "    tmpDf2_1 = tmpDf2.iloc[:, tmpDf2.columns.get_level_values(0)=='individual'].multiply(dfDepositAmounts['individual_{}'.format(curr)], axis=0)\n",
    "    tmpDf2_2 = tmpDf2.iloc[:, tmpDf2.columns.get_level_values(0)=='entity'].multiply(dfDepositAmounts['entities_{}'.format(curr)], axis=0)\n",
    "    dfDepositsStructureIntRate.append(tmpDf2_1.join(tmpDf2_2).round())"
   ]
  },
  {
   "cell_type": "markdown",
   "metadata": {},
   "source": [
    "#### Calculate the number of days in a month based on the deposit amounts dataset date"
   ]
  },
  {
   "cell_type": "code",
   "execution_count": 22,
   "metadata": {
    "collapsed": false
   },
   "outputs": [],
   "source": [
    "daysInMonth = pd.to_numeric((dfDepositAmounts.dt + MonthEnd(1)).apply('{:%d}'.format))"
   ]
  },
  {
   "cell_type": "code",
   "execution_count": 23,
   "metadata": {
    "collapsed": false
   },
   "outputs": [],
   "source": [
    "daysInMonth = daysInMonth.to_frame()"
   ]
  },
  {
   "cell_type": "markdown",
   "metadata": {},
   "source": [
    "#### Add order column to the dataset of days in months (Used later for sorting)"
   ]
  },
  {
   "cell_type": "code",
   "execution_count": 24,
   "metadata": {
    "collapsed": false
   },
   "outputs": [],
   "source": [
    "daysInMonth['order'] = [r + 1 for r in range(len(daysInMonth))]"
   ]
  },
  {
   "cell_type": "code",
   "execution_count": 25,
   "metadata": {
    "collapsed": false
   },
   "outputs": [
    {
     "data": {
      "text/html": [
       "<div>\n",
       "<table border=\"1\" class=\"dataframe\">\n",
       "  <thead>\n",
       "    <tr style=\"text-align: right;\">\n",
       "      <th></th>\n",
       "      <th>dt</th>\n",
       "      <th>order</th>\n",
       "    </tr>\n",
       "    <tr>\n",
       "      <th>month</th>\n",
       "      <th></th>\n",
       "      <th></th>\n",
       "    </tr>\n",
       "  </thead>\n",
       "  <tbody>\n",
       "    <tr>\n",
       "      <th>January</th>\n",
       "      <td>31</td>\n",
       "      <td>1</td>\n",
       "    </tr>\n",
       "    <tr>\n",
       "      <th>February</th>\n",
       "      <td>29</td>\n",
       "      <td>2</td>\n",
       "    </tr>\n",
       "    <tr>\n",
       "      <th>March</th>\n",
       "      <td>31</td>\n",
       "      <td>3</td>\n",
       "    </tr>\n",
       "    <tr>\n",
       "      <th>April</th>\n",
       "      <td>30</td>\n",
       "      <td>4</td>\n",
       "    </tr>\n",
       "    <tr>\n",
       "      <th>May</th>\n",
       "      <td>31</td>\n",
       "      <td>5</td>\n",
       "    </tr>\n",
       "    <tr>\n",
       "      <th>June</th>\n",
       "      <td>30</td>\n",
       "      <td>6</td>\n",
       "    </tr>\n",
       "    <tr>\n",
       "      <th>July</th>\n",
       "      <td>31</td>\n",
       "      <td>7</td>\n",
       "    </tr>\n",
       "    <tr>\n",
       "      <th>August</th>\n",
       "      <td>31</td>\n",
       "      <td>8</td>\n",
       "    </tr>\n",
       "  </tbody>\n",
       "</table>\n",
       "</div>"
      ],
      "text/plain": [
       "          dt  order\n",
       "month              \n",
       "January   31      1\n",
       "February  29      2\n",
       "March     31      3\n",
       "April     30      4\n",
       "May       31      5\n",
       "June      30      6\n",
       "July      31      7\n",
       "August    31      8"
      ]
     },
     "execution_count": 25,
     "metadata": {},
     "output_type": "execute_result"
    }
   ],
   "source": [
    "daysInMonth"
   ]
  },
  {
   "cell_type": "markdown",
   "metadata": {},
   "source": [
    "### 5. Extract the monthly avg weighted fx rates from the url and create a dataset out of them "
   ]
  },
  {
   "cell_type": "code",
   "execution_count": 26,
   "metadata": {
    "collapsed": false
   },
   "outputs": [],
   "source": [
    "r  = requests.get(url)\n",
    "data = r.text"
   ]
  },
  {
   "cell_type": "code",
   "execution_count": 27,
   "metadata": {
    "collapsed": false
   },
   "outputs": [],
   "source": [
    "soup = BeautifulSoup(data, 'lxml')"
   ]
  },
  {
   "cell_type": "markdown",
   "metadata": {},
   "source": [
    "#### The relevant data we need is in a table with id table28"
   ]
  },
  {
   "cell_type": "code",
   "execution_count": 28,
   "metadata": {
    "collapsed": false
   },
   "outputs": [],
   "source": [
    "table28 = soup.find(id='table28')"
   ]
  },
  {
   "cell_type": "code",
   "execution_count": 29,
   "metadata": {
    "collapsed": false
   },
   "outputs": [
    {
     "data": {
      "text/plain": [
       "bs4.element.Tag"
      ]
     },
     "execution_count": 29,
     "metadata": {},
     "output_type": "execute_result"
    }
   ],
   "source": [
    "type(table28)"
   ]
  },
  {
   "cell_type": "markdown",
   "metadata": {},
   "source": [
    "#### Loop over the 1 and the 6 rows of the table and extract the months names and their respective fx rates"
   ]
  },
  {
   "cell_type": "code",
   "execution_count": 30,
   "metadata": {
    "collapsed": false
   },
   "outputs": [],
   "source": [
    "header = list()\n",
    "info = list()\n",
    "for n, tr in enumerate(table28.findAll('tr')):\n",
    "    if n in (0,):\n",
    "        # print(n, tr)\n",
    "        for td in tr.findAll('td'):\n",
    "            header.append(td.getText())\n",
    "    elif n in (5,):\n",
    "        for td in tr.findAll('td'):\n",
    "            info.append(td.getText())"
   ]
  },
  {
   "cell_type": "markdown",
   "metadata": {},
   "source": [
    "#### Remove . from months name and zip together the months and their fx rates and create a dataframe out of the zip then replace empty strings with NaN and drop the empty fields"
   ]
  },
  {
   "cell_type": "code",
   "execution_count": 31,
   "metadata": {
    "collapsed": false
   },
   "outputs": [],
   "source": [
    "zipped = list(zip([h.strip().replace('.', '') for h in header], [h.strip() for h in info]))"
   ]
  },
  {
   "cell_type": "code",
   "execution_count": 32,
   "metadata": {
    "collapsed": false
   },
   "outputs": [],
   "source": [
    "webRates = pd.DataFrame.from_records(zipped, columns=['month_short', 'rate']).replace('', np.nan).dropna()"
   ]
  },
  {
   "cell_type": "markdown",
   "metadata": {},
   "source": [
    "#### Filter out months starting with Q (as they are not months but quaters) then convert the rates to a number. Conversion is needed because everything coming from a website is considered text"
   ]
  },
  {
   "cell_type": "code",
   "execution_count": 33,
   "metadata": {
    "collapsed": false
   },
   "outputs": [],
   "source": [
    "webRates = webRates[~webRates.month_short.str.startswith('Q')]\n",
    "webRates['rate'] = pd.to_numeric(webRates.rate)"
   ]
  },
  {
   "cell_type": "code",
   "execution_count": 34,
   "metadata": {
    "collapsed": false
   },
   "outputs": [],
   "source": [
    "# for z in zip(webRates.index, daysInMonth.index):\n",
    "#     print(z)"
   ]
  },
  {
   "cell_type": "code",
   "execution_count": 35,
   "metadata": {
    "collapsed": false
   },
   "outputs": [
    {
     "data": {
      "text/plain": [
       "'January'"
      ]
     },
     "execution_count": 35,
     "metadata": {},
     "output_type": "execute_result"
    }
   ],
   "source": [
    "daysInMonth.index[daysInMonth.index.str.startswith('Jan')][0]"
   ]
  },
  {
   "cell_type": "markdown",
   "metadata": {},
   "source": [
    "#### Map the full month name from the first dataset with the months short name from the url, set it as index and delete the moths short name"
   ]
  },
  {
   "cell_type": "code",
   "execution_count": 36,
   "metadata": {
    "collapsed": false
   },
   "outputs": [],
   "source": [
    "webRates['month'] = webRates.month_short.apply(lambda x: daysInMonth.index[daysInMonth.index.str.startswith(x)][0])"
   ]
  },
  {
   "cell_type": "code",
   "execution_count": 37,
   "metadata": {
    "collapsed": false
   },
   "outputs": [],
   "source": [
    "webRates.set_index('month', inplace=True)"
   ]
  },
  {
   "cell_type": "code",
   "execution_count": 38,
   "metadata": {
    "collapsed": false
   },
   "outputs": [],
   "source": [
    "del(webRates['month_short'])"
   ]
  },
  {
   "cell_type": "code",
   "execution_count": 39,
   "metadata": {
    "collapsed": false
   },
   "outputs": [
    {
     "data": {
      "text/html": [
       "<div>\n",
       "<table border=\"1\" class=\"dataframe\">\n",
       "  <thead>\n",
       "    <tr style=\"text-align: right;\">\n",
       "      <th></th>\n",
       "      <th>rate</th>\n",
       "    </tr>\n",
       "    <tr>\n",
       "      <th>month</th>\n",
       "      <th></th>\n",
       "    </tr>\n",
       "  </thead>\n",
       "  <tbody>\n",
       "    <tr>\n",
       "      <th>January</th>\n",
       "      <td>83.03</td>\n",
       "    </tr>\n",
       "    <tr>\n",
       "      <th>February</th>\n",
       "      <td>85.88</td>\n",
       "    </tr>\n",
       "    <tr>\n",
       "      <th>March</th>\n",
       "      <td>78.23</td>\n",
       "    </tr>\n",
       "    <tr>\n",
       "      <th>April</th>\n",
       "      <td>75.58</td>\n",
       "    </tr>\n",
       "    <tr>\n",
       "      <th>May</th>\n",
       "      <td>74.26</td>\n",
       "    </tr>\n",
       "    <tr>\n",
       "      <th>June</th>\n",
       "      <td>73.33</td>\n",
       "    </tr>\n",
       "    <tr>\n",
       "      <th>July</th>\n",
       "      <td>71.23</td>\n",
       "    </tr>\n",
       "    <tr>\n",
       "      <th>August</th>\n",
       "      <td>72.78</td>\n",
       "    </tr>\n",
       "  </tbody>\n",
       "</table>\n",
       "</div>"
      ],
      "text/plain": [
       "           rate\n",
       "month          \n",
       "January   83.03\n",
       "February  85.88\n",
       "March     78.23\n",
       "April     75.58\n",
       "May       74.26\n",
       "June      73.33\n",
       "July      71.23\n",
       "August    72.78"
      ]
     },
     "execution_count": 39,
     "metadata": {},
     "output_type": "execute_result"
    }
   ],
   "source": [
    "webRates"
   ]
  },
  {
   "cell_type": "markdown",
   "metadata": {},
   "source": [
    "### 6. Create and excel with calculations applied"
   ]
  },
  {
   "cell_type": "code",
   "execution_count": 40,
   "metadata": {
    "collapsed": false
   },
   "outputs": [],
   "source": [
    "writer = pd.ExcelWriter('files/depositsResult.xlsx')"
   ]
  },
  {
   "cell_type": "markdown",
   "metadata": {
    "collapsed": true
   },
   "source": [
    "#### Loop over the deposits structures datasets in different currencies (rub, usd)\n",
    "1. Take the annual weighted interest rate and divide it by 365 then multiply it by the days in a month \n",
    "2. Multiply the deposit structures with the result of the above operation\n",
    "3. If currency is RUB divide by the usd exchange rate to get the USD equivalent\n",
    "4. Add order column to the dataset and order by it then drop it and write dataset as a sheet to the excel file\n",
    "5. Save the excel file"
   ]
  },
  {
   "cell_type": "code",
   "execution_count": 42,
   "metadata": {
    "collapsed": false
   },
   "outputs": [],
   "source": [
    "for n, df in enumerate(dfDepositsStructureIntRate):\n",
    "    t = None\n",
    "    if n == 0:\n",
    "        t = 'RUB'\n",
    "    else:\n",
    "        t = 'USD'\n",
    "    df2 = dfDepositsAnnIntRate[n].divide(365, axis=0).multiply(daysInMonth.dt, axis=0) # 1\n",
    "    df = df.multiply(df2, axis=0).round() # 2\n",
    "    if t == 'RUB':\n",
    "        df = df.divide(webRates.rate, axis=0).round() # 3\n",
    "    df['entity', 'order'] = daysInMonth['order'] # 4\n",
    "    df = df.sort_values(('entity', 'order')) # 4\n",
    "    df.drop('order', axis=1, level=1, inplace=True) # 4\n",
    "    df.to_excel(writer,'sheet %s' % t)\n",
    "writer.save() # 5"
   ]
  },
  {
   "cell_type": "markdown",
   "metadata": {},
   "source": [
    "### Et voila!"
   ]
  },
  {
   "cell_type": "code",
   "execution_count": null,
   "metadata": {
    "collapsed": true
   },
   "outputs": [],
   "source": []
  }
 ],
 "metadata": {
  "anaconda-cloud": {},
  "kernelspec": {
   "display_name": "Python [conda root]",
   "language": "python",
   "name": "conda-root-py"
  },
  "language_info": {
   "codemirror_mode": {
    "name": "ipython",
    "version": 3
   },
   "file_extension": ".py",
   "mimetype": "text/x-python",
   "name": "python",
   "nbconvert_exporter": "python",
   "pygments_lexer": "ipython3",
   "version": "3.5.2"
  }
 },
 "nbformat": 4,
 "nbformat_minor": 1
}
